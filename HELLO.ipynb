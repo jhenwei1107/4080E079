{
  "nbformat": 4,
  "nbformat_minor": 0,
  "metadata": {
    "colab": {
      "name": "HELLO.ipynb",
      "version": "0.3.2",
      "provenance": [],
      "include_colab_link": true
    },
    "kernelspec": {
      "name": "python3",
      "display_name": "Python 3"
    }
  },
  "cells": [
    {
      "cell_type": "markdown",
      "metadata": {
        "id": "view-in-github",
        "colab_type": "text"
      },
      "source": [
        "<a href=\"https://colab.research.google.com/github/jhenwei1107/cs4high_4080E079/blob/master/HELLO.ipynb\" target=\"_parent\"><img src=\"https://colab.research.google.com/assets/colab-badge.svg\" alt=\"Open In Colab\"/></a>"
      ]
    },
    {
      "cell_type": "code",
      "metadata": {
        "id": "_sMehRZ2jUC6",
        "colab_type": "code",
        "outputId": "208b5916-9f9f-4561-ee32-dde265913fc7",
        "colab": {
          "base_uri": "https://localhost:8080/",
          "height": 153
        }
      },
      "source": [
        "print(\"Hello, mydeargreatteacher!\")\n",
        "print(\"   *  \")\n",
        "print(\"  *** \")\n",
        "print(\" ***** \")\n",
        "print(\"******* \")\n",
        "print(\"   *   \")\n",
        "print(\"   *   \")\n",
        "print(\"   *   \")"
      ],
      "execution_count": 5,
      "outputs": [
        {
          "output_type": "stream",
          "text": [
            "Hello, mydeargreatteacher!\n",
            "   *  \n",
            "  *** \n",
            " ***** \n",
            "******* \n",
            "   *   \n",
            "   *   \n",
            "   *   \n"
          ],
          "name": "stdout"
        }
      ]
    }
  ]
}